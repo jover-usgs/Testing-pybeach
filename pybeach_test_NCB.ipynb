{
 "cells": [
  {
   "cell_type": "markdown",
   "metadata": {},
   "source": [
    "# pybeach\n",
    "\n",
    "### A Python package for locating the dune toe on cross-shore beach profile transects."
   ]
  },
  {
   "cell_type": "markdown",
   "metadata": {},
   "source": [
    "### Table of Contents\n",
    "\n",
    "This notebook demonstrates a few key elements of pybeach, including:\n",
    "1. [Creating a custom classifier](#1)\n",
    "2. [Predicting dune toes](#2)\n",
    "3. [Example plots and results](#3)"
   ]
  },
  {
   "cell_type": "markdown",
   "metadata": {},
   "source": [
    "### Setup\n",
    "\n",
    "Read the __*pybeach*__ docs [here!](https://pybeach.readthedocs.io/en/latest/).\n",
    "\n",
    "To run this notebook, pybeach should be installed. I recommend creating a new virtual environment and then running:\n",
    "\n",
    "`pip install pybeach`\n",
    "\n",
    "Depending on your setup, you may also need to install `jupyter` to run this notebook within the virtual environment, and if you want to generate plots in this notebook, you'll need `matplotlib`:\n",
    "\n",
    "`pip install jupyter`\n",
    "\n",
    "`pip install matplotlib`"
   ]
  },
  {
   "cell_type": "markdown",
   "metadata": {},
   "source": [
    "### Imports"
   ]
  },
  {
   "cell_type": "code",
   "execution_count": 9,
   "metadata": {},
   "outputs": [],
   "source": [
    "import os\n",
    "import csv\n",
    "import pickle\n",
    "import joblib\n",
    "import numpy as np\n",
    "import pandas as pd\n",
    "import matplotlib.pyplot as plt\n",
    "from pybeach.beach import Profile\n",
    "from pybeach.support import data_support as ds\n",
    "from pybeach.support import classifier_support as cs\n",
    "%matplotlib inline"
   ]
  },
  {
   "cell_type": "markdown",
   "metadata": {},
   "source": [
    "### Load test data"
   ]
  },
  {
   "cell_type": "code",
   "execution_count": 64,
   "metadata": {
    "scrolled": true
   },
   "outputs": [
    {
     "data": {
      "text/html": [
       "<div>\n",
       "<style scoped>\n",
       "    .dataframe tbody tr th:only-of-type {\n",
       "        vertical-align: middle;\n",
       "    }\n",
       "\n",
       "    .dataframe tbody tr th {\n",
       "        vertical-align: top;\n",
       "    }\n",
       "\n",
       "    .dataframe thead th {\n",
       "        text-align: right;\n",
       "    }\n",
       "</style>\n",
       "<table border=\"1\" class=\"dataframe\">\n",
       "  <thead>\n",
       "    <tr style=\"text-align: right;\">\n",
       "      <th></th>\n",
       "      <th>X</th>\n",
       "      <th>Z1</th>\n",
       "      <th>Z2</th>\n",
       "      <th>Z3</th>\n",
       "      <th>Z4</th>\n",
       "      <th>Z5</th>\n",
       "      <th>Z6</th>\n",
       "      <th>Z7</th>\n",
       "      <th>Z8</th>\n",
       "      <th>Z9</th>\n",
       "      <th>toe</th>\n",
       "    </tr>\n",
       "  </thead>\n",
       "  <tbody>\n",
       "    <tr>\n",
       "      <td>0</td>\n",
       "      <td>0.0000</td>\n",
       "      <td>4.315</td>\n",
       "      <td>3.517</td>\n",
       "      <td>2.271</td>\n",
       "      <td>3.156</td>\n",
       "      <td>1.851</td>\n",
       "      <td>2.454</td>\n",
       "      <td>1.679</td>\n",
       "      <td>2.542</td>\n",
       "      <td>2.887</td>\n",
       "      <td>442.0</td>\n",
       "    </tr>\n",
       "    <tr>\n",
       "      <td>1</td>\n",
       "      <td>0.0982</td>\n",
       "      <td>4.326</td>\n",
       "      <td>3.505</td>\n",
       "      <td>2.272</td>\n",
       "      <td>3.136</td>\n",
       "      <td>1.861</td>\n",
       "      <td>2.466</td>\n",
       "      <td>1.694</td>\n",
       "      <td>2.556</td>\n",
       "      <td>2.894</td>\n",
       "      <td>589.0</td>\n",
       "    </tr>\n",
       "    <tr>\n",
       "      <td>2</td>\n",
       "      <td>0.1965</td>\n",
       "      <td>4.336</td>\n",
       "      <td>3.494</td>\n",
       "      <td>2.274</td>\n",
       "      <td>3.116</td>\n",
       "      <td>1.871</td>\n",
       "      <td>2.479</td>\n",
       "      <td>1.709</td>\n",
       "      <td>2.571</td>\n",
       "      <td>2.902</td>\n",
       "      <td>433.0</td>\n",
       "    </tr>\n",
       "    <tr>\n",
       "      <td>3</td>\n",
       "      <td>0.2947</td>\n",
       "      <td>4.345</td>\n",
       "      <td>3.482</td>\n",
       "      <td>2.275</td>\n",
       "      <td>3.096</td>\n",
       "      <td>1.880</td>\n",
       "      <td>2.492</td>\n",
       "      <td>1.724</td>\n",
       "      <td>2.587</td>\n",
       "      <td>2.911</td>\n",
       "      <td>444.0</td>\n",
       "    </tr>\n",
       "    <tr>\n",
       "      <td>4</td>\n",
       "      <td>0.3929</td>\n",
       "      <td>4.352</td>\n",
       "      <td>3.472</td>\n",
       "      <td>2.275</td>\n",
       "      <td>3.076</td>\n",
       "      <td>1.890</td>\n",
       "      <td>2.505</td>\n",
       "      <td>1.740</td>\n",
       "      <td>2.601</td>\n",
       "      <td>2.921</td>\n",
       "      <td>800.0</td>\n",
       "    </tr>\n",
       "    <tr>\n",
       "      <td>...</td>\n",
       "      <td>...</td>\n",
       "      <td>...</td>\n",
       "      <td>...</td>\n",
       "      <td>...</td>\n",
       "      <td>...</td>\n",
       "      <td>...</td>\n",
       "      <td>...</td>\n",
       "      <td>...</td>\n",
       "      <td>...</td>\n",
       "      <td>...</td>\n",
       "      <td>...</td>\n",
       "    </tr>\n",
       "    <tr>\n",
       "      <td>1020</td>\n",
       "      <td>100.9000</td>\n",
       "      <td>0.090</td>\n",
       "      <td>NaN</td>\n",
       "      <td>NaN</td>\n",
       "      <td>NaN</td>\n",
       "      <td>1.294</td>\n",
       "      <td>1.296</td>\n",
       "      <td>1.632</td>\n",
       "      <td>NaN</td>\n",
       "      <td>1.572</td>\n",
       "      <td>NaN</td>\n",
       "    </tr>\n",
       "    <tr>\n",
       "      <td>1021</td>\n",
       "      <td>101.0000</td>\n",
       "      <td>0.088</td>\n",
       "      <td>NaN</td>\n",
       "      <td>NaN</td>\n",
       "      <td>NaN</td>\n",
       "      <td>1.286</td>\n",
       "      <td>1.294</td>\n",
       "      <td>1.633</td>\n",
       "      <td>NaN</td>\n",
       "      <td>1.566</td>\n",
       "      <td>NaN</td>\n",
       "    </tr>\n",
       "    <tr>\n",
       "      <td>1022</td>\n",
       "      <td>101.1000</td>\n",
       "      <td>0.086</td>\n",
       "      <td>NaN</td>\n",
       "      <td>NaN</td>\n",
       "      <td>NaN</td>\n",
       "      <td>1.278</td>\n",
       "      <td>1.291</td>\n",
       "      <td>1.633</td>\n",
       "      <td>NaN</td>\n",
       "      <td>1.560</td>\n",
       "      <td>NaN</td>\n",
       "    </tr>\n",
       "    <tr>\n",
       "      <td>1023</td>\n",
       "      <td>101.2000</td>\n",
       "      <td>0.084</td>\n",
       "      <td>NaN</td>\n",
       "      <td>NaN</td>\n",
       "      <td>NaN</td>\n",
       "      <td>1.269</td>\n",
       "      <td>1.289</td>\n",
       "      <td>1.632</td>\n",
       "      <td>NaN</td>\n",
       "      <td>1.553</td>\n",
       "      <td>NaN</td>\n",
       "    </tr>\n",
       "    <tr>\n",
       "      <td>1024</td>\n",
       "      <td>101.2900</td>\n",
       "      <td>0.081</td>\n",
       "      <td>NaN</td>\n",
       "      <td>NaN</td>\n",
       "      <td>NaN</td>\n",
       "      <td>1.261</td>\n",
       "      <td>1.287</td>\n",
       "      <td>1.631</td>\n",
       "      <td>NaN</td>\n",
       "      <td>1.545</td>\n",
       "      <td>NaN</td>\n",
       "    </tr>\n",
       "  </tbody>\n",
       "</table>\n",
       "<p>1025 rows × 11 columns</p>\n",
       "</div>"
      ],
      "text/plain": [
       "             X     Z1     Z2     Z3     Z4     Z5     Z6     Z7     Z8     Z9  \\\n",
       "0       0.0000  4.315  3.517  2.271  3.156  1.851  2.454  1.679  2.542  2.887   \n",
       "1       0.0982  4.326  3.505  2.272  3.136  1.861  2.466  1.694  2.556  2.894   \n",
       "2       0.1965  4.336  3.494  2.274  3.116  1.871  2.479  1.709  2.571  2.902   \n",
       "3       0.2947  4.345  3.482  2.275  3.096  1.880  2.492  1.724  2.587  2.911   \n",
       "4       0.3929  4.352  3.472  2.275  3.076  1.890  2.505  1.740  2.601  2.921   \n",
       "...        ...    ...    ...    ...    ...    ...    ...    ...    ...    ...   \n",
       "1020  100.9000  0.090    NaN    NaN    NaN  1.294  1.296  1.632    NaN  1.572   \n",
       "1021  101.0000  0.088    NaN    NaN    NaN  1.286  1.294  1.633    NaN  1.566   \n",
       "1022  101.1000  0.086    NaN    NaN    NaN  1.278  1.291  1.633    NaN  1.560   \n",
       "1023  101.2000  0.084    NaN    NaN    NaN  1.269  1.289  1.632    NaN  1.553   \n",
       "1024  101.2900  0.081    NaN    NaN    NaN  1.261  1.287  1.631    NaN  1.545   \n",
       "\n",
       "        toe  \n",
       "0     442.0  \n",
       "1     589.0  \n",
       "2     433.0  \n",
       "3     444.0  \n",
       "4     800.0  \n",
       "...     ...  \n",
       "1020    NaN  \n",
       "1021    NaN  \n",
       "1022    NaN  \n",
       "1023    NaN  \n",
       "1024    NaN  \n",
       "\n",
       "[1025 rows x 11 columns]"
      ]
     },
     "execution_count": 64,
     "metadata": {},
     "output_type": "execute_result"
    }
   ],
   "source": [
    "# Load some test data for a profile\n",
    "#with open('NCB_profiles_test_2.csv') as f:\n",
    "    #data = pd.read_csv(f, header = 0)\n",
    "  \n",
    "with open('NCB_profiles_test_5.csv') as t:\n",
    "    data2 = pd.read_csv(t, header = 0)\n",
    "data2\n"
   ]
  },
  {
   "cell_type": "code",
   "execution_count": 96,
   "metadata": {},
   "outputs": [
    {
     "name": "stdout",
     "output_type": "stream",
     "text": [
      "1025\n"
     ]
    },
    {
     "data": {
      "text/plain": [
       "array([4.315, 4.326, 4.336, ..., 0.086, 0.084, 0.081])"
      ]
     },
     "execution_count": 96,
     "metadata": {},
     "output_type": "execute_result"
    }
   ],
   "source": [
    "#Create a larger array\n",
    "x = np.array(data2['X'])\n",
    "z1 = np.array(data2['Z1'])\n",
    "z2 = np.array(data2['Z2'])\n",
    "z3 = np.array(data2['Z3'])\n",
    "z4 = np.array(data2['Z4'])\n",
    "z5 = np.array(data2['Z5'])\n",
    "z6 = np.array(data2['Z6'])\n",
    "z7 = np.array(data2['Z7'])\n",
    "z8 = np.array(data2['Z8'])\n",
    "z9 = np.array(data2['Z9'])\n",
    "z = np.array(data2['Z1'],data2['Z2'])\n",
    "#toe = np.array(data2['toe'])\n",
    "#z = np.stack[(z1,z2,z3,z4,z5,z6,z7,z8,z9)]\n",
    "\n",
    "print(len(z))\n",
    "type(z)\n",
    "z"
   ]
  },
  {
   "cell_type": "code",
   "execution_count": null,
   "metadata": {},
   "outputs": [],
   "source": []
  },
  {
   "cell_type": "code",
   "execution_count": 93,
   "metadata": {},
   "outputs": [
    {
     "name": "stdout",
     "output_type": "stream",
     "text": [
      "length of x is 361 and length of z is 200 and the number of dune toes is 200\n"
     ]
    },
    {
     "data": {
      "text/plain": [
       "{'x': array([  0. ,   2.5,   5. ,   7.5,  10. ,  12.5,  15. ,  17.5,  20. ,\n",
       "         22.5,  25. ,  27.5,  30. ,  32.5,  35. ,  37.5,  40. ,  42.5,\n",
       "         45. ,  47.5,  50. ,  52.5,  55. ,  57.5,  60. ,  62.5,  65. ,\n",
       "         67.5,  70. ,  72.5,  75. ,  77.5,  80. ,  82.5,  85. ,  87.5,\n",
       "         90. ,  92.5,  95. ,  97.5, 100. , 102.5, 105. , 107.5, 110. ,\n",
       "        112.5, 115. , 117.5, 120. , 122.5, 125. , 127.5, 130. , 132.5,\n",
       "        135. , 137.5, 140. , 142.5, 145. , 147.5, 150. , 152.5, 155. ,\n",
       "        157.5, 160. , 162.5, 165. , 167.5, 170. , 172.5, 175. , 177.5,\n",
       "        180. , 182.5, 185. , 187.5, 190. , 192.5, 195. , 197.5, 200. ,\n",
       "        202.5, 205. , 207.5, 210. , 212.5, 215. , 217.5, 220. , 222.5,\n",
       "        225. , 227.5, 230. , 232.5, 235. , 237.5, 240. , 242.5, 245. ,\n",
       "        247.5, 250. , 252.5, 255. , 257.5, 260. , 262.5, 265. , 267.5,\n",
       "        270. , 272.5, 275. , 277.5, 280. , 282.5, 285. , 287.5, 290. ,\n",
       "        292.5, 295. , 297.5, 300. , 302.5, 305. , 307.5, 310. , 312.5,\n",
       "        315. , 317.5, 320. , 322.5, 325. , 327.5, 330. , 332.5, 335. ,\n",
       "        337.5, 340. , 342.5, 345. , 347.5, 350. , 352.5, 355. , 357.5,\n",
       "        360. , 362.5, 365. , 367.5, 370. , 372.5, 375. , 377.5, 380. ,\n",
       "        382.5, 385. , 387.5, 390. , 392.5, 395. , 397.5, 400. , 402.5,\n",
       "        405. , 407.5, 410. , 412.5, 415. , 417.5, 420. , 422.5, 425. ,\n",
       "        427.5, 430. , 432.5, 435. , 437.5, 440. , 442.5, 445. , 447.5,\n",
       "        450. , 452.5, 455. , 457.5, 460. , 462.5, 465. , 467.5, 470. ,\n",
       "        472.5, 475. , 477.5, 480. , 482.5, 485. , 487.5, 490. , 492.5,\n",
       "        495. , 497.5, 500. , 502.5, 505. , 507.5, 510. , 512.5, 515. ,\n",
       "        517.5, 520. , 522.5, 525. , 527.5, 530. , 532.5, 535. , 537.5,\n",
       "        540. , 542.5, 545. , 547.5, 550. , 552.5, 555. , 557.5, 560. ,\n",
       "        562.5, 565. , 567.5, 570. , 572.5, 575. , 577.5, 580. , 582.5,\n",
       "        585. , 587.5, 590. , 592.5, 595. , 597.5, 600. , 602.5, 605. ,\n",
       "        607.5, 610. , 612.5, 615. , 617.5, 620. , 622.5, 625. , 627.5,\n",
       "        630. , 632.5, 635. , 637.5, 640. , 642.5, 645. , 647.5, 650. ,\n",
       "        652.5, 655. , 657.5, 660. , 662.5, 665. , 667.5, 670. , 672.5,\n",
       "        675. , 677.5, 680. , 682.5, 685. , 687.5, 690. , 692.5, 695. ,\n",
       "        697.5, 700. , 702.5, 705. , 707.5, 710. , 712.5, 715. , 717.5,\n",
       "        720. , 722.5, 725. , 727.5, 730. , 732.5, 735. , 737.5, 740. ,\n",
       "        742.5, 745. , 747.5, 750. , 752.5, 755. , 757.5, 760. , 762.5,\n",
       "        765. , 767.5, 770. , 772.5, 775. , 777.5, 780. , 782.5, 785. ,\n",
       "        787.5, 790. , 792.5, 795. , 797.5, 800. , 802.5, 805. , 807.5,\n",
       "        810. , 812.5, 815. , 817.5, 820. , 822.5, 825. , 827.5, 830. ,\n",
       "        832.5, 835. , 837.5, 840. , 842.5, 845. , 847.5, 850. , 852.5,\n",
       "        855. , 857.5, 860. , 862.5, 865. , 867.5, 870. , 872.5, 875. ,\n",
       "        877.5, 880. , 882.5, 885. , 887.5, 890. , 892.5, 895. , 897.5,\n",
       "        900. ]),\n",
       " 'z': array([[0.85275585, 0.85275585, 0.79263568, ..., 0.        , 0.        ,\n",
       "         0.        ],\n",
       "        [0.87983593, 0.87983593, 0.84535189, ..., 0.        , 0.        ,\n",
       "         0.        ],\n",
       "        [0.02451363, 0.18231767, 0.36539769, ..., 0.        , 0.        ,\n",
       "         0.        ],\n",
       "        ...,\n",
       "        [1.113     , 1.923     , 1.99280237, ..., 0.        , 0.        ,\n",
       "         0.        ],\n",
       "        [2.53020974, 2.47664151, 3.51881891, ..., 0.        , 0.        ,\n",
       "         0.        ],\n",
       "        [1.544     , 2.53020974, 2.47664151, ..., 0.        , 0.        ,\n",
       "         0.        ]]),\n",
       " 'toe': array([107, 107,  81,  86, 150, 127,  60,  81, 103, 111, 121, 105,  67,\n",
       "        128, 121,  63,  74,  88, 107, 106, 122, 240, 205, 163, 159, 143,\n",
       "        139, 136, 120, 157, 227, 271, 165, 160, 143, 139, 134, 132, 133,\n",
       "        165, 197, 203, 191, 190, 190, 195, 197, 197, 200, 201, 204, 198,\n",
       "        171, 171, 251, 251, 252,  92, 202, 188, 157, 129, 127, 193, 213,\n",
       "        172, 171, 197, 197, 194, 177, 177, 150, 151, 154, 155, 210, 189,\n",
       "        186, 146, 142, 137, 138, 139, 159, 171, 185, 175, 151, 147,  61,\n",
       "        161, 160, 161, 175, 169, 178, 188, 253, 252, 251, 247, 244, 226,\n",
       "        223, 207, 215, 212, 206, 161, 158, 160, 179, 176, 177, 174, 191,\n",
       "        190, 220, 225, 224, 218, 198, 201, 134, 118,  90, 185, 156, 159,\n",
       "        159, 169, 275, 277, 163, 143, 241, 260, 261,  77,  67,  67,  67,\n",
       "         89,  90,  95,  97, 107, 106, 108, 106, 106, 106, 103,  62,  94,\n",
       "        133, 144, 142, 142, 142, 135, 133, 135, 132, 131, 125, 115, 108,\n",
       "        108, 115, 111, 119, 118, 103, 103, 100,  60, 120, 111, 116, 100,\n",
       "        101, 103, 104,  99, 102,  86,  87,  72,  67,  67,  62,  92, 108,\n",
       "         95,  60,  72,  82,  82], dtype=uint16)}"
      ]
     },
     "execution_count": 93,
     "metadata": {},
     "output_type": "execute_result"
    }
   ],
   "source": [
    "with open('test_profiles.pkl', 'rb') as p:\n",
    "    pkl = pickle.load(p)\n",
    "print('length of x is ' + str(len(pkl['x'])) + ' and length of z is ' + str(len(pkl['z'])) + ' and the number of dune toes is ' + str(len(pkl['toe'])))\n",
    "pkl\n"
   ]
  },
  {
   "cell_type": "code",
   "execution_count": 55,
   "metadata": {},
   "outputs": [],
   "source": [
    "#Get the x and z columns into an array\n",
    "#x = np.array(data['X'])\n",
    "#z = np.array(data['Z'])\n"
   ]
  },
  {
   "cell_type": "code",
   "execution_count": 69,
   "metadata": {},
   "outputs": [],
   "source": [
    "#Make a quick plot\n",
    "#plt.plot(x,z)"
   ]
  },
  {
   "cell_type": "markdown",
   "metadata": {},
   "source": [
    "# 1. Creating a custom classifier <a name=\"1\"></a>"
   ]
  },
  {
   "cell_type": "code",
   "execution_count": 81,
   "metadata": {},
   "outputs": [],
   "source": [
    "# Create classifier\n",
    "#clf = cs.create_classifier(x, z, toe, window=40, min_buffer=40, max_buffer=200)\n",
    "\n",
    "# Uncomment to save classifier to package directory\n",
    "# import pybeach\n",
    "# path = os.path.dirname(pybeach.__file__) + '/classifiers/'\n",
    "# with open(path) as f:\n",
    "#     joblib.dump(clf, f, protocol=pickle.HIGHEST_PROTOCOL)"
   ]
  },
  {
   "cell_type": "markdown",
   "metadata": {},
   "source": [
    "# 2. Predicting dune toes <a name=\"2\"></a>"
   ]
  },
  {
   "cell_type": "code",
   "execution_count": 82,
   "metadata": {},
   "outputs": [
    {
     "ename": "AssertionError",
     "evalue": "z should be of type ndarray.",
     "output_type": "error",
     "traceback": [
      "\u001b[1;31m---------------------------------------------------------------------------\u001b[0m",
      "\u001b[1;31mAssertionError\u001b[0m                            Traceback (most recent call last)",
      "\u001b[1;32m<ipython-input-82-ff52867de392>\u001b[0m in \u001b[0;36m<module>\u001b[1;34m\u001b[0m\n\u001b[0;32m      1\u001b[0m \u001b[1;31m# Instantiate Profile class\u001b[0m\u001b[1;33m\u001b[0m\u001b[1;33m\u001b[0m\u001b[1;33m\u001b[0m\u001b[0m\n\u001b[1;32m----> 2\u001b[1;33m \u001b[0mp\u001b[0m \u001b[1;33m=\u001b[0m \u001b[0mProfile\u001b[0m\u001b[1;33m(\u001b[0m\u001b[0mx\u001b[0m\u001b[1;33m,\u001b[0m \u001b[0mz\u001b[0m\u001b[1;33m)\u001b[0m\u001b[1;33m\u001b[0m\u001b[1;33m\u001b[0m\u001b[0m\n\u001b[0m\u001b[0;32m      3\u001b[0m \u001b[1;31m# Make predictions of dune toe\u001b[0m\u001b[1;33m\u001b[0m\u001b[1;33m\u001b[0m\u001b[1;33m\u001b[0m\u001b[0m\n\u001b[0;32m      4\u001b[0m \u001b[0mtoe_ml\u001b[0m\u001b[1;33m,\u001b[0m \u001b[0mprob_ml\u001b[0m \u001b[1;33m=\u001b[0m \u001b[0mp\u001b[0m\u001b[1;33m.\u001b[0m\u001b[0mpredict_dunetoe_ml\u001b[0m\u001b[1;33m(\u001b[0m\u001b[1;34m'barrier_island_clf'\u001b[0m\u001b[1;33m,\u001b[0m \u001b[0mdune_crest\u001b[0m\u001b[1;33m=\u001b[0m\u001b[1;34m'rr'\u001b[0m\u001b[1;33m,\u001b[0m \u001b[0mwindow_size\u001b[0m\u001b[1;33m=\u001b[0m\u001b[1;36m101\u001b[0m\u001b[1;33m,\u001b[0m \u001b[0mthreshold\u001b[0m\u001b[1;33m=\u001b[0m\u001b[1;36m0.97\u001b[0m\u001b[1;33m)\u001b[0m\u001b[1;33m\u001b[0m\u001b[1;33m\u001b[0m\u001b[0m\n\u001b[0;32m      5\u001b[0m \u001b[0mtoe_mc\u001b[0m \u001b[1;33m=\u001b[0m \u001b[0mp\u001b[0m\u001b[1;33m.\u001b[0m\u001b[0mpredict_dunetoe_mc\u001b[0m\u001b[1;33m(\u001b[0m\u001b[0mdune_crest\u001b[0m\u001b[1;33m=\u001b[0m\u001b[1;34m'rr'\u001b[0m\u001b[1;33m,\u001b[0m \u001b[0mwindow_size\u001b[0m\u001b[1;33m=\u001b[0m\u001b[1;36m101\u001b[0m\u001b[1;33m,\u001b[0m \u001b[0mthreshold\u001b[0m\u001b[1;33m=\u001b[0m\u001b[1;36m0.97\u001b[0m\u001b[1;33m)\u001b[0m\u001b[1;33m\u001b[0m\u001b[1;33m\u001b[0m\u001b[0m\n",
      "\u001b[1;32m~\\Miniconda3\\envs\\pybeach\\lib\\site-packages\\pybeach\\beach.py\u001b[0m in \u001b[0;36m__init__\u001b[1;34m(self, x, z, window_size)\u001b[0m\n\u001b[0;32m     53\u001b[0m         \u001b[1;32massert\u001b[0m \u001b[1;33m(\u001b[0m\u001b[0mnp\u001b[0m\u001b[1;33m.\u001b[0m\u001b[0mndim\u001b[0m\u001b[1;33m(\u001b[0m\u001b[0mx\u001b[0m\u001b[1;33m)\u001b[0m \u001b[1;33m==\u001b[0m \u001b[1;36m1\u001b[0m\u001b[1;33m)\u001b[0m\u001b[1;33m,\u001b[0m \u001b[1;34m'x should be a 1-d array of size (m,).'\u001b[0m\u001b[1;33m\u001b[0m\u001b[1;33m\u001b[0m\u001b[0m\n\u001b[0;32m     54\u001b[0m         \u001b[1;32massert\u001b[0m \u001b[1;33m(\u001b[0m\u001b[0mlen\u001b[0m\u001b[1;33m(\u001b[0m\u001b[0mx\u001b[0m\u001b[1;33m)\u001b[0m \u001b[1;33m>\u001b[0m \u001b[1;36m1\u001b[0m\u001b[1;33m)\u001b[0m\u001b[1;33m,\u001b[0m \u001b[1;34m'x should have length > 1.'\u001b[0m\u001b[1;33m\u001b[0m\u001b[1;33m\u001b[0m\u001b[0m\n\u001b[1;32m---> 55\u001b[1;33m         \u001b[1;32massert\u001b[0m \u001b[0misinstance\u001b[0m\u001b[1;33m(\u001b[0m\u001b[0mz\u001b[0m\u001b[1;33m,\u001b[0m \u001b[0mnp\u001b[0m\u001b[1;33m.\u001b[0m\u001b[0mndarray\u001b[0m\u001b[1;33m)\u001b[0m\u001b[1;33m,\u001b[0m \u001b[1;34m'z should be of type ndarray.'\u001b[0m\u001b[1;33m\u001b[0m\u001b[1;33m\u001b[0m\u001b[0m\n\u001b[0m\u001b[0;32m     56\u001b[0m         \u001b[1;32massert\u001b[0m \u001b[0misinstance\u001b[0m\u001b[1;33m(\u001b[0m\u001b[0mwindow_size\u001b[0m\u001b[1;33m,\u001b[0m \u001b[0mint\u001b[0m\u001b[1;33m)\u001b[0m \u001b[1;33m&\u001b[0m\u001b[0;31m \u001b[0m\u001b[0;31m\\\u001b[0m\u001b[1;33m\u001b[0m\u001b[1;33m\u001b[0m\u001b[0m\n\u001b[0;32m     57\u001b[0m                \u001b[1;33m(\u001b[0m\u001b[0mwindow_size\u001b[0m \u001b[1;33m>\u001b[0m \u001b[1;36m0\u001b[0m\u001b[1;33m)\u001b[0m \u001b[1;33m&\u001b[0m\u001b[0;31m \u001b[0m\u001b[0;31m\\\u001b[0m\u001b[1;33m\u001b[0m\u001b[1;33m\u001b[0m\u001b[0m\n",
      "\u001b[1;31mAssertionError\u001b[0m: z should be of type ndarray."
     ]
    }
   ],
   "source": [
    "# Instantiate Profile class\n",
    "p = Profile(x, z)\n",
    "# Make predictions of dune toe\n",
    "toe_ml, prob_ml = p.predict_dunetoe_ml('barrier_island_clf', dune_crest='rr', window_size=101, threshold=0.97)\n",
    "toe_mc = p.predict_dunetoe_mc(dune_crest='rr', window_size=101, threshold=0.97)\n",
    "toe_rr = p.predict_dunetoe_rr(dune_crest='rr', window_size=101, threshold=0.97, toe_threshold=0.2, verbose=False)\n",
    "toe_pd = p.predict_dunetoe_pd(dune_crest='rr', window_size=101, threshold=0.97)\n",
    "# Predict dune crest\n",
    "crest = p.predict_dunecrest()\n",
    "# Predict shoreline\n",
    "shoreline = p.predict_shoreline()\n"
   ]
  },
  {
   "cell_type": "markdown",
   "metadata": {},
   "source": [
    "# 3. Example plots and results <a name=\"3\"></a>"
   ]
  },
  {
   "cell_type": "code",
   "execution_count": 31,
   "metadata": {},
   "outputs": [],
   "source": [
    "# Plotting Paramaters\n",
    "params = {'legend.fontsize': 12,\n",
    "           'axes.labelsize': 14,\n",
    "           'axes.labelweight': 'bold',\n",
    "           'axes.titlesize': 14,\n",
    "           'axes.titleweight': 'bold',\n",
    "           'xtick.labelsize': 14,\n",
    "           'ytick.labelsize': 14,\n",
    "           'mathtext.default':'regular'}\n",
    "plt.rcParams.update(params)"
   ]
  },
  {
   "cell_type": "code",
   "execution_count": 39,
   "metadata": {},
   "outputs": [
    {
     "data": {
      "text/plain": [
       "<matplotlib.legend.Legend at 0x294b31113c8>"
      ]
     },
     "execution_count": 39,
     "metadata": {},
     "output_type": "execute_result"
    },
    {
     "data": {
      "image/png": "[encoded data removed]",
      "text/plain": [
       "<Figure size 504x360 with 1 Axes>"
      ]
     },
     "metadata": {
      "needs_background": "light"
     },
     "output_type": "display_data"
    }
   ],
   "source": [
    "# Specify profile to plot\n",
    "n = 0\n",
    "\n",
    "# Figure metadata\n",
    "fig, axes = plt.subplots(1, 1, figsize=(7, 5))\n",
    "[toe_ml[n], toe_mc[n], toe_rr[n], toe_pd[n]] #toes = [toe_ml, toe_mc, toe_rr, toe_pd] \n",
    "labels = ['True toe', 'Machine learning', 'Maximum curvature', 'Relative relief', 'Perpendicular distance']\n",
    "colors = ['k', 'tomato', 'cornflowerblue', 'gold', 'limegreen']\n",
    "\n",
    "# Generate figure\n",
    "axes.plot(x, z, '-k') #axes.plot(x, z[n], '-k')\n",
    "axes.fill_between([70, 100], [0, 0], y2=-1, color='lightskyblue', alpha=0.5)\n",
    "axes.fill_between(x, z[n], y2=-1, color='cornsilk', alpha=1) #axes.fill_between(x, z, y2=-1, color='cornsilk', alpha=1) \n",
    "axes.axvspan(-10, -9, color='tomato', alpha = 0.6, label='ML Toe probability') # legend placeholder\n",
    "\n",
    "for i, itoe in enumerate(toes): \n",
    "    axes.plot(x[itoe], z[n, itoe], #axes.plot(x[itoe], z[itoe], \n",
    "              'o', color=colors[i], ms=12, mec='k', label=labels[i])\n",
    "axes.plot(x[crest[n]], z[n, crest[n]], 'v', color='k', ms=12, mec='k', label='Crest') #axes.plot(x[crest], z[crest], 'v', color='k', ms=12, mec='k', label='Crest') #\n",
    "axes.plot(x[shoreline[n]], z[n, shoreline[n]], '^', color='k', ms=12, mec='k', label='Shoreline') #axes.plot(x[shoreline], z[shoreline], '^', color='k', ms=12, mec='k', label='Shoreline') #\n",
    "#axes.set_xlim(200, 400)\n",
    "axes.set_ylim(0, 6)\n",
    "axes.set_title('Example profile')\n",
    "axes.set_xlabel('Cross-shore distance (m)')\n",
    "axes.set_ylabel('Elevation (m)')\n",
    "axes.grid()\n",
    "axes.legend(framealpha=1)\n",
    "\n",
    "# Plot dune toe ML probability\n",
    "# axes2 = axes.twinx() \n",
    "# axes2.fill_between(x, prob_ml, color='tomato', alpha=0.5) #axes2.fill_between(x, prob_ml[n], color='tomato', alpha=0.5)\n",
    "# axes2.set_ylim(0, 6)\n",
    "# axes2.set_yticks([0, 1])\n",
    "# axes2.tick_params(axis='y', labelcolor='tomato')\n",
    "# axes2.yaxis.set_label_coords(1.1, 0.1)\n",
    "# axes2.set_ylabel('Toe probability', color='tomato', rotation=270);"
   ]
  },
  {
   "cell_type": "code",
   "execution_count": 38,
   "metadata": {},
   "outputs": [
    {
     "ename": "NameError",
     "evalue": "name 'toe' is not defined",
     "output_type": "error",
     "traceback": [
      "\u001b[1;31m---------------------------------------------------------------------------\u001b[0m",
      "\u001b[1;31mNameError\u001b[0m                                 Traceback (most recent call last)",
      "\u001b[1;32m<ipython-input-38-c660ca116f7e>\u001b[0m in \u001b[0;36m<module>\u001b[1;34m\u001b[0m\n\u001b[0;32m      4\u001b[0m \u001b[0mlabels\u001b[0m \u001b[1;33m=\u001b[0m \u001b[1;33m[\u001b[0m\u001b[1;34m'Machine\\nLearning\\n(MC)'\u001b[0m\u001b[1;33m,\u001b[0m \u001b[1;34m'Max.\\nCurvature\\n(MC)'\u001b[0m\u001b[1;33m,\u001b[0m \u001b[1;34m'Relative\\nRelief\\n(RR)'\u001b[0m\u001b[1;33m,\u001b[0m \u001b[1;34m'Perp.\\nDistance\\n(PD)'\u001b[0m\u001b[1;33m]\u001b[0m\u001b[1;33m\u001b[0m\u001b[1;33m\u001b[0m\u001b[0m\n\u001b[0;32m      5\u001b[0m \u001b[1;31m# Generate figure\u001b[0m\u001b[1;33m\u001b[0m\u001b[1;33m\u001b[0m\u001b[1;33m\u001b[0m\u001b[0m\n\u001b[1;32m----> 6\u001b[1;33m \u001b[0mdata\u001b[0m \u001b[1;33m=\u001b[0m \u001b[1;33m(\u001b[0m\u001b[0mtoe\u001b[0m \u001b[1;33m-\u001b[0m \u001b[0mnp\u001b[0m\u001b[1;33m.\u001b[0m\u001b[0mvstack\u001b[0m\u001b[1;33m(\u001b[0m\u001b[1;33m(\u001b[0m\u001b[0mtoe_ml\u001b[0m\u001b[1;33m,\u001b[0m \u001b[0mtoe_mc\u001b[0m\u001b[1;33m,\u001b[0m \u001b[0mtoe_rr\u001b[0m\u001b[1;33m,\u001b[0m \u001b[0mtoe_pd\u001b[0m\u001b[1;33m)\u001b[0m\u001b[1;33m)\u001b[0m\u001b[1;33m)\u001b[0m\u001b[1;33m.\u001b[0m\u001b[0mT\u001b[0m\u001b[1;33m.\u001b[0m\u001b[0mastype\u001b[0m\u001b[1;33m(\u001b[0m\u001b[1;34m\"float64\"\u001b[0m\u001b[1;33m)\u001b[0m\u001b[1;33m\u001b[0m\u001b[1;33m\u001b[0m\u001b[0m\n\u001b[0m\u001b[0;32m      7\u001b[0m \u001b[1;31m# data1[:,2] *= 0.7\u001b[0m\u001b[1;33m\u001b[0m\u001b[1;33m\u001b[0m\u001b[1;33m\u001b[0m\u001b[0m\n\u001b[0;32m      8\u001b[0m bplot = axes.boxplot(data,\n",
      "\u001b[1;31mNameError\u001b[0m: name 'toe' is not defined"
     ]
    },
    {
     "data": {
      "image/png": "[encoded data removed]",
      "text/plain": [
       "<Figure size 360x360 with 1 Axes>"
      ]
     },
     "metadata": {
      "needs_background": "light"
     },
     "output_type": "display_data"
    }
   ],
   "source": [
    "# Figure metadata\n",
    "fig, axes = plt.subplots(1, 1, figsize=(5, 5))\n",
    "colors = ['tomato', 'cornflowerblue', 'gold', 'limegreen']\n",
    "labels = ['Machine\\nLearning\\n(MC)', 'Max.\\nCurvature\\n(MC)', 'Relative\\nRelief\\n(RR)', 'Perp.\\nDistance\\n(PD)']\n",
    "# Generate figure\n",
    "data = (toe - np.vstack((toe_ml, toe_mc, toe_rr, toe_pd))).T.astype(\"float64\")\n",
    "# data1[:,2] *= 0.7\n",
    "bplot = axes.boxplot(data,\n",
    "                     labels=labels,\n",
    "                     patch_artist=True,\n",
    "                     medianprops = dict(linewidth=2.5, color='k'))\n",
    "for patch, color in zip(bplot['boxes'], colors):\n",
    "    patch.set_facecolor(color)\n",
    "axes.set_ylabel('Prediction error (m)')\n",
    "axes.set_xlabel('Method', labelpad=5)\n",
    "axes.set_ylim(-40, 40)\n",
    "axes.grid()\n",
    "axes.set_title(\"Performance on test dataset\")\n",
    "plt.tight_layout()"
   ]
  },
  {
   "cell_type": "code",
   "execution_count": 8,
   "metadata": {},
   "outputs": [
    {
     "data": {
      "text/html": [
       "<div>\n",
       "<style scoped>\n",
       "    .dataframe tbody tr th:only-of-type {\n",
       "        vertical-align: middle;\n",
       "    }\n",
       "\n",
       "    .dataframe tbody tr th {\n",
       "        vertical-align: top;\n",
       "    }\n",
       "\n",
       "    .dataframe thead th {\n",
       "        text-align: right;\n",
       "    }\n",
       "</style>\n",
       "<table border=\"1\" class=\"dataframe\">\n",
       "  <thead>\n",
       "    <tr style=\"text-align: right;\">\n",
       "      <th></th>\n",
       "      <th>MAE</th>\n",
       "      <th>RMSE</th>\n",
       "      <th>R2</th>\n",
       "    </tr>\n",
       "  </thead>\n",
       "  <tbody>\n",
       "    <tr>\n",
       "      <td>ML</td>\n",
       "      <td>2.40</td>\n",
       "      <td>5.17</td>\n",
       "      <td>0.99</td>\n",
       "    </tr>\n",
       "    <tr>\n",
       "      <td>MC</td>\n",
       "      <td>7.59</td>\n",
       "      <td>10.57</td>\n",
       "      <td>0.96</td>\n",
       "    </tr>\n",
       "    <tr>\n",
       "      <td>RR</td>\n",
       "      <td>8.59</td>\n",
       "      <td>11.22</td>\n",
       "      <td>0.95</td>\n",
       "    </tr>\n",
       "    <tr>\n",
       "      <td>PD</td>\n",
       "      <td>5.18</td>\n",
       "      <td>8.22</td>\n",
       "      <td>0.98</td>\n",
       "    </tr>\n",
       "  </tbody>\n",
       "</table>\n",
       "</div>"
      ],
      "text/plain": [
       "     MAE   RMSE    R2\n",
       "ML  2.40   5.17  0.99\n",
       "MC  7.59  10.57  0.96\n",
       "RR  8.59  11.22  0.95\n",
       "PD  5.18   8.22  0.98"
      ]
     },
     "execution_count": 8,
     "metadata": {},
     "output_type": "execute_result"
    }
   ],
   "source": [
    "df = pd.DataFrame({'MAE': [np.absolute(toe-toe_ml).mean(),\n",
    "                           np.absolute(toe-toe_mc).mean(),\n",
    "                           np.absolute(toe-toe_rr).mean(),\n",
    "                           np.absolute(toe-toe_pd).mean()],\n",
    "                   'RMSE': [np.sqrt(np.square(toe-toe_ml).mean()),\n",
    "                            np.sqrt(np.square(toe-toe_mc).mean()),\n",
    "                            np.sqrt(np.square(toe-toe_rr).mean()),\n",
    "                            np.sqrt(np.square(toe-toe_pd).mean())],\n",
    "                   'R2': [1 - (np.square(toe-toe_ml)).sum() / (np.square(toe-toe.mean())).sum(),\n",
    "                          1 - (np.square(toe-toe_mc)).sum() / (np.square(toe-toe.mean())).sum(),\n",
    "                          1 - (np.square(toe-toe_rr)).sum() / (np.square(toe-toe.mean())).sum(),\n",
    "                          1 - (np.square(toe-toe_pd)).sum() / (np.square(toe-toe.mean())).sum()]},\n",
    "                  index=['ML', 'MC', 'RR', 'PD']).round(2)\n",
    "df"
   ]
  }
 ],
 "metadata": {
  "kernelspec": {
   "display_name": "Python 3",
   "language": "python",
   "name": "python3"
  },
  "language_info": {
   "codemirror_mode": {
    "name": "ipython",
    "version": 3
   },
   "file_extension": ".py",
   "mimetype": "text/x-python",
   "name": "python",
   "nbconvert_exporter": "python",
   "pygments_lexer": "ipython3",
   "version": "3.7.6"
  }
 },
 "nbformat": 4,
 "nbformat_minor": 4
}
