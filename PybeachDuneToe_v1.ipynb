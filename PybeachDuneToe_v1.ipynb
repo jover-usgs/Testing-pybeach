{
 "cells": [
  {
   "cell_type": "markdown",
   "metadata": {},
   "source": [
    "### Imports"
   ]
  },
  {
   "cell_type": "code",
   "execution_count": 1,
   "metadata": {},
   "outputs": [],
   "source": [
    "#began 5/1/2020 k.ames and used by J.Over. Needs fix for unequal point spacing and multiple time steps\n",
    "\n",
    "import os\n",
    "import csv\n",
    "import joblib\n",
    "import math\n",
    "import numpy as np\n",
    "import pandas as pd\n",
    "import matplotlib.pyplot as plt\n",
    "from pybeach.beach import Profile\n",
    "from pybeach.support import data_support as ds\n",
    "from pybeach.support import classifier_support as cs\n",
    "%matplotlib inline\n"
   ]
  },
  {
   "cell_type": "markdown",
   "metadata": {},
   "source": [
    "### Load Data\n",
    "The code will need one csv with the following fields named:<br>\n",
    "__'X'__ - easting of each point<br>\n",
    "__'Y'__ - northing of each point<br>\n",
    "__'TransOrder'__ - transect number of each point<br>\n",
    "__'Elevation'__ - elevation of each point<br>\n",
    "__'Info'__ - year of each point in yyyymmdd format \n",
    "\n",
    "Previously have run into issues with by beach throwing an warning that it looked like the data were organized seaward to landward. Pybeach will only work with landward to seaward data. If this warning persisits after double checking data are in the correct direction try clipping the data nearer the landward side of the dune crest. The error \"All NaN slice\" occurs if data is organized seaward to landward or if there is no dune crest on the transect."
   ]
  },
  {
   "cell_type": "code",
   "execution_count": 47,
   "metadata": {
    "scrolled": false
   },
   "outputs": [
    {
     "name": "stdout",
     "output_type": "stream",
     "text": [
      "Created np arrays of Easting, Northing and Elevation\n",
      "60353    2.336\n",
      "60356    2.330\n",
      "60359    2.407\n",
      "60362    2.510\n",
      "60365    2.510\n",
      "         ...  \n",
      "60560    2.153\n",
      "60561    1.976\n",
      "60562    1.976\n",
      "60563    1.751\n",
      "60564    0.400\n",
      "Name: Elevation, Length: 132, dtype: float64\n"
     ]
    }
   ],
   "source": [
    "#-------------------USER EDITS---------------------------------\n",
    "year = 20190830 # User entered year, matching values in the info field\n",
    "csvname = \"NCB_Profiles_test_7.csv\" #csvname\n",
    "total_dist = 200 #length of longest transect (m)\n",
    "spacing = 1 #spacing of points e.g. 1m, 2m\n",
    "export = \"y\" #(y/n) export figures created\n",
    "path = 'C:/Users/jover/programs/Pybeach_Working/Notebook_pybeach_figures' #path where csv will export\n",
    "#---------------------------------------------------------------\n",
    "\n",
    "#This is setting up a distance array. FIIS elevations were pulled every 2m so this works\n",
    "x = np.arange(0, total_dist, spacing) \n",
    "\n",
    "NCB_array = pd.read_csv(csvname,  sep=',')\n",
    "Data_sel=NCB_array[NCB_array[\"Info\"]==year]         #split out one year of data\n",
    "Transects = sorted(list(set(Data_sel[\"TransOrder\"]))) #Keep unique transect values for looping\n",
    "\n",
    "z_list=[]\n",
    "east_list=[]\n",
    "north_list=[]\n",
    "\n",
    "for n in Transects:\n",
    "    trans_sel=Data_sel[Data_sel[\"TransOrder\"]==n]   #isolate data from one transect    \n",
    "    z_ind=trans_sel[\"Elevation\"] #get all values associated with that transect and year\n",
    "    east_ind=trans_sel[\"X\"]\n",
    "    north_ind=trans_sel[\"Y\"]\n",
    "    \n",
    "    z1 =z_ind.values.tolist() #convert to list so we can put it back into a different array\n",
    "    east1 =east_ind.values.tolist()\n",
    "    north1 =north_ind.values.tolist()\n",
    "    \n",
    "    if len(z1) < (total_dist/spacing):  #padding with NaNs, not all transects are the same length\n",
    "        #addon=np.repeat(np.nan, (total_dist/spacing)-len(z1))    \n",
    "        addon=np.repeat(-0.03, (total_dist/spacing)-len(z1))                                       \n",
    "        z1.extend(addon)\n",
    "        east1.extend(addon)\n",
    "        north1.extend(addon)\n",
    "    \n",
    "    z_list.append(z1) #append onto lists\n",
    "    east_list.append(east1)\n",
    "    north_list.append(north1)\n",
    "\n",
    "z=np.array(z_list) #put back into arrays for pybeach to use\n",
    "east=np.array(east_list)\n",
    "north=np.array(north_list)\n",
    "print(\"Created np arrays of Easting, Northing and Elevation\")\n",
    "#print (z) #print commands for error checking\n",
    "#np.savetxt(\"foo.csv\", z, delimiter=\",\")\n",
    "print (z_ind)\n",
    "#print (north)"
   ]
  },
  {
   "cell_type": "markdown",
   "metadata": {},
   "source": [
    "### Predicting dune toes "
   ]
  },
  {
   "cell_type": "code",
   "execution_count": 44,
   "metadata": {},
   "outputs": [],
   "source": [
    "# Instantiate Profile class\n",
    "p = Profile(x, z)\n",
    "# Make predictions of dune toe\n",
    "\n",
    "toe_ml, prob_ml = p.predict_dunetoe_ml('barrier_island_clf', dune_crest='max', window_size=50, threshold=0.97)\n",
    "toe_mc = p.predict_dunetoe_mc(dune_crest='max', window_size=100, threshold=0.98,)\n",
    "toe_rr = p.predict_dunetoe_rr(dune_crest='max', window_size=[23,24,100], threshold=0.98, toe_threshold=0.2, verbose=False)\n",
    "toe_pd = p.predict_dunetoe_pd(dune_crest='max', window_size=23, threshold=0.98)\n",
    "# Predict dune crest\n",
    "crest = p.predict_dunecrest()\n",
    "# Predict shoreline\n",
    "shoreline = p.predict_shoreline(dune_crest='rr')"
   ]
  },
  {
   "cell_type": "markdown",
   "metadata": {},
   "source": [
    "### Example plots and results "
   ]
  },
  {
   "cell_type": "code",
   "execution_count": 45,
   "metadata": {},
   "outputs": [],
   "source": [
    "# Plotting Paramaters\n",
    "params = {'legend.fontsize': 12,\n",
    "           'axes.labelsize': 14,\n",
    "           'axes.labelweight': 'bold',\n",
    "           'axes.titlesize': 14,\n",
    "           'axes.titleweight': 'bold',\n",
    "           'xtick.labelsize': 14,\n",
    "           'ytick.labelsize': 14,\n",
    "           'mathtext.default':'regular'}\n",
    "plt.rcParams.update(params)"
   ]
  },
  {
   "cell_type": "code",
   "execution_count": 48,
   "metadata": {},
   "outputs": [
    {
     "name": "stdout",
     "output_type": "stream",
     "text": [
      "Exporting Finished\n"
     ]
    }
   ],
   "source": [
    "# Specify profile to plot\n",
    "n = 0\n",
    "for n in range(0,len(z)): #number of transects, iterate over\n",
    "    figurename=\"Transect_\" + str(Transects[n]) +\"_\" + str(year) + \".pdf\"\n",
    "    # Figure metadata\n",
    "    fig, axes = plt.subplots(1, 1, figsize=(7, 5))\n",
    "    toes = [toe_ml[n],toe_mc[n], toe_rr[n], toe_pd[n]] #\n",
    "    labels = ['Machine Learning','Maximum curvature', 'Relative relief', 'Perpendicular distance'] #\n",
    "    colors = ['k', 'tomato', 'cornflowerblue', 'gold', 'limegreen'] #\n",
    "    # Generate figure\n",
    "    axes.plot(x, z[n], '-k')\n",
    "    axes.fill_between([70, 100], [0, 0], y2=-1, color='lightskyblue', alpha=0.5)\n",
    "    axes.fill_between(x, z[n], y2=-1, color='cornsilk', alpha=1)\n",
    "    axes.axvspan(-10, -9, color='tomato', alpha = 0.6, label='ML Toe probability') # legend placeholder\n",
    "    for i, itoe in enumerate(toes): \n",
    "        axes.plot(x[itoe], z[n, itoe],\n",
    "                  'o', color=colors[i], ms=12, mec='k', label=labels[i])\n",
    "    axes.plot(x[crest[n]], z[n, crest[n]], 'v', color='k', ms=12, mec='k', label='Crest')\n",
    "    axes.plot(x[shoreline[n]], z[n, shoreline[n]], '^', color='k', ms=12, mec='k', label='Shoreline')\n",
    "    axes.set_xlim(0, 200)\n",
    "    axes.set_ylim(-.03, 7)\n",
    "    axes.set_title(\"Transect-\" + str(Transects[n]) + \" \" + str(year))\n",
    "    axes.set_xlabel('Cross-shore distance (m)')\n",
    "    axes.set_ylabel('Elevation (m)')\n",
    "    axes.grid()\n",
    "    axes.legend(framealpha=1)\n",
    "    # Plot dune toe ML probability\n",
    "    axes2 = axes.twinx() \n",
    "    axes2.fill_between(x, prob_ml[n], color='tomato', alpha=0.5)\n",
    "    axes2.set_ylim(0, 6)\n",
    "    axes2.set_yticks([0, 1])\n",
    "    axes2.tick_params(axis='y', labelcolor='tomato')\n",
    "    axes2.yaxis.set_label_coords(1.1, 0.1)\n",
    "    axes2.set_ylabel('Toe probability', color='tomato', rotation=270);\n",
    "    if export == \"y\":\n",
    "        fig.savefig(figurename, bbox_inches='tight')\n",
    "        plt.close(fig)\n",
    "    else:\n",
    "        plt.close(fig)\n",
    "print(\"Exporting Finished\")"
   ]
  },
  {
   "cell_type": "markdown",
   "metadata": {},
   "source": [
    "### Export Data"
   ]
  },
  {
   "cell_type": "code",
   "execution_count": 49,
   "metadata": {
    "scrolled": true
   },
   "outputs": [
    {
     "data": {
      "text/html": [
       "<div>\n",
       "<style scoped>\n",
       "    .dataframe tbody tr th:only-of-type {\n",
       "        vertical-align: middle;\n",
       "    }\n",
       "\n",
       "    .dataframe tbody tr th {\n",
       "        vertical-align: top;\n",
       "    }\n",
       "\n",
       "    .dataframe thead th {\n",
       "        text-align: right;\n",
       "    }\n",
       "</style>\n",
       "<table border=\"1\" class=\"dataframe\">\n",
       "  <thead>\n",
       "    <tr style=\"text-align: right;\">\n",
       "      <th></th>\n",
       "      <th>trans_ind</th>\n",
       "      <th>Dist</th>\n",
       "      <th>X</th>\n",
       "      <th>Y</th>\n",
       "      <th>Z</th>\n",
       "      <th>Type</th>\n",
       "    </tr>\n",
       "  </thead>\n",
       "  <tbody>\n",
       "    <tr>\n",
       "      <td>0</td>\n",
       "      <td>2</td>\n",
       "      <td>55</td>\n",
       "      <td>380440.1703</td>\n",
       "      <td>3858381.919</td>\n",
       "      <td>1.666</td>\n",
       "      <td>MachineLearning</td>\n",
       "    </tr>\n",
       "    <tr>\n",
       "      <td>1</td>\n",
       "      <td>3</td>\n",
       "      <td>24</td>\n",
       "      <td>380458.5919</td>\n",
       "      <td>3858436.183</td>\n",
       "      <td>2.659</td>\n",
       "      <td>MachineLearning</td>\n",
       "    </tr>\n",
       "    <tr>\n",
       "      <td>2</td>\n",
       "      <td>4</td>\n",
       "      <td>44</td>\n",
       "      <td>380511.1391</td>\n",
       "      <td>3858452.547</td>\n",
       "      <td>2.604</td>\n",
       "      <td>MachineLearning</td>\n",
       "    </tr>\n",
       "    <tr>\n",
       "      <td>3</td>\n",
       "      <td>5</td>\n",
       "      <td>56</td>\n",
       "      <td>380558.3333</td>\n",
       "      <td>3858474.857</td>\n",
       "      <td>1.803</td>\n",
       "      <td>MachineLearning</td>\n",
       "    </tr>\n",
       "    <tr>\n",
       "      <td>4</td>\n",
       "      <td>6</td>\n",
       "      <td>57</td>\n",
       "      <td>380598.1671</td>\n",
       "      <td>3858505.341</td>\n",
       "      <td>1.825</td>\n",
       "      <td>MachineLearning</td>\n",
       "    </tr>\n",
       "  </tbody>\n",
       "</table>\n",
       "</div>"
      ],
      "text/plain": [
       "   trans_ind  Dist            X            Y      Z             Type\n",
       "0          2    55  380440.1703  3858381.919  1.666  MachineLearning\n",
       "1          3    24  380458.5919  3858436.183  2.659  MachineLearning\n",
       "2          4    44  380511.1391  3858452.547  2.604  MachineLearning\n",
       "3          5    56  380558.3333  3858474.857  1.803  MachineLearning\n",
       "4          6    57  380598.1671  3858505.341  1.825  MachineLearning"
      ]
     },
     "execution_count": 49,
     "metadata": {},
     "output_type": "execute_result"
    }
   ],
   "source": [
    "#set up array with all results for one year of data\n",
    "titles=('MachineLearning','MaximumCurvature','RelativeRelief','PerpendicularDistance','Crest','Shoreline') #variable names to label\n",
    "\n",
    "#set up array of index values for all variables\n",
    "all_results = pd.DataFrame(index=Transects)\n",
    "all_results[titles[0]] = toe_ml\n",
    "all_results[titles[1]] = toe_mc\n",
    "all_results[titles[2]] = toe_rr\n",
    "all_results[titles[3]] = toe_pd\n",
    "all_results[titles[4]] = crest\n",
    "all_results[titles[5]] = shoreline\n",
    "#all_results.head() #for error checking\n",
    "\n",
    "#set up blank variables\n",
    "trans_ind=[]\n",
    "toe_dist=[]\n",
    "toe_x=[]\n",
    "toe_y=[]\n",
    "toe_z=[]\n",
    "var_type=[]\n",
    "\n",
    "#loop through both variables and every transect, labeling what type \n",
    "for v in range(0,len(titles)): #for number of headers iterate over\n",
    "    title=\"PyBeach_Results_\" + str(year) + \".csv\"\n",
    "\n",
    "    for n in range(0,len(z)): #number of transects, iterate over\n",
    "        ind = all_results.iloc[n,v]\n",
    "        trans_ind.append(Transects[n])\n",
    "        toe_dist.append(x[ind])\n",
    "        toe_x.append(east[n,ind])\n",
    "        toe_y.append(north[n,ind])\n",
    "        toe_z.append(z[n,ind])\n",
    "        var_type.append(titles[v])\n",
    "        \n",
    "#create data frame and export csv\n",
    "df=pd.DataFrame(list(zip(trans_ind, toe_dist, toe_x, toe_y, toe_z, var_type)),columns=['trans_ind','Dist','X','Y','Z','Type'])\n",
    "df.to_csv(path + title)\n",
    "df.head() #preview dataframe\n"
   ]
  },
  {
   "cell_type": "code",
   "execution_count": null,
   "metadata": {},
   "outputs": [],
   "source": []
  }
 ],
 "metadata": {
  "kernelspec": {
   "display_name": "Python 3",
   "language": "python",
   "name": "python3"
  },
  "language_info": {
   "codemirror_mode": {
    "name": "ipython",
    "version": 3
   },
   "file_extension": ".py",
   "mimetype": "text/x-python",
   "name": "python",
   "nbconvert_exporter": "python",
   "pygments_lexer": "ipython3",
   "version": "3.7.6"
  }
 },
 "nbformat": 4,
 "nbformat_minor": 2
}
